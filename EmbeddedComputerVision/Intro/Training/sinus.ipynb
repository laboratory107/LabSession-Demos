{
 "cells": [
  {
   "cell_type": "code",
   "execution_count": null,
   "metadata": {},
   "outputs": [],
   "source": [
    "import tensorflow as tf\n",
    "import numpy as np\n",
    "import matplotlib.pyplot as plt\n",
    "import math\n",
    "\n",
    "SAMPLES = 1000\n",
    "SEED = 1337\n",
    "\n",
    "np.random.seed(SEED)\n",
    "tf.random.set_seed(SEED)\n",
    "xValues = np.random.uniform(low=0, high=2*math.pi, size=SAMPLES)\n",
    "np.random.shuffle(xValues)\n",
    "yValues = np.sin(xValues)\n",
    "\n",
    "plt.plot(xValues, yValues, 'b.', label=\"Train\")\n",
    "plt.legend()\n",
    "plt.show()"
   ]
  },
  {
   "cell_type": "code",
   "execution_count": null,
   "metadata": {},
   "outputs": [],
   "source": [
    "yValues += 0.1 * np.random.randn(*yValues.shape)\n",
    "\n",
    "plt.plot(xValues, yValues, 'b.', label=\"Train\")\n",
    "plt.legend()\n",
    "plt.show()"
   ]
  },
  {
   "cell_type": "code",
   "execution_count": null,
   "metadata": {},
   "outputs": [],
   "source": [
    "TRAIN_SPLIT = int(0.6 * SAMPLES)\n",
    "TEST_SPLIT = int(0.2 * SAMPLES + TRAIN_SPLIT)\n",
    "\n",
    "xTrain, xValidate, xTest = np.split(xValues, [TRAIN_SPLIT, TEST_SPLIT])\n",
    "yTrain, yValidate, yTest = np.split(yValues, [TRAIN_SPLIT, TEST_SPLIT])\n",
    "\n",
    "plt.plot(xTrain, yTrain, 'b.', label=\"Train\")\n",
    "plt.plot(xValidate, yValidate, 'y.', label=\"Validate\")\n",
    "plt.plot(xTest, yTest, 'r.', label=\"Test\")\n",
    "plt.legend()\n",
    "plt.show()\n"
   ]
  },
  {
   "cell_type": "code",
   "execution_count": null,
   "metadata": {},
   "outputs": [],
   "source": [
    "from keras import layers\n",
    "\n",
    "model_1 = tf.keras.Sequential()\n",
    "model_1.add(layers.Dense(16, activation='relu', input_shape=(1,)))\n",
    "model_1.add(layers.Dense(1))\n",
    "model_1.compile(optimizer='rmsprop', loss='mse', metrics=['mae'])\n",
    "model_1.summary()\n",
    "\n",
    "history_1 = model_1.fit(xTrain, yTrain, epochs=500, batch_size=16, validation_data=(xValidate, yValidate))"
   ]
  },
  {
   "cell_type": "code",
   "execution_count": null,
   "metadata": {},
   "outputs": [],
   "source": [
    "\n",
    "loss = history_1.history['loss']\n",
    "valLoss = history_1.history['val_loss']\n",
    "epochs = range(1, len(loss) + 1)\n",
    "plt.plot(epochs, loss, 'g.', label='Training loss')\n",
    "plt.plot(epochs, valLoss, 'b', label='Validation loss')\n",
    "plt.title('Training and validation loss')\n",
    "plt.xlabel('Epochs')\n",
    "plt.ylabel('Loss')\n",
    "plt.legend()\n",
    "plt.show()"
   ]
  },
  {
   "cell_type": "code",
   "execution_count": null,
   "metadata": {},
   "outputs": [],
   "source": [
    "predictions = model_1.predict(xTrain)\n",
    "\n",
    "plt.clf()\n",
    "plt.title('Training data predicted vs actual values')\n",
    "plt.plot(xTest, yTest, 'b.', label='Actual')\n",
    "plt.plot(xTrain, predictions, 'r.', label='Predicted')\n",
    "plt.legend()\n",
    "plt.show()"
   ]
  },
  {
   "cell_type": "code",
   "execution_count": null,
   "metadata": {},
   "outputs": [],
   "source": [
    "model_2 = tf.keras.Sequential()\n",
    "model_2.add(layers.Dense(16, activation='relu', input_shape=(1,)))\n",
    "model_2.add(layers.Dense(16, activation='relu'))\n",
    "model_2.add(layers.Dense(1))\n",
    "model_2.compile(optimizer='rmsprop', loss='mse', metrics=['mae'])\n",
    "model_2.summary()\n",
    "history_2 = model_2.fit(xTrain, yTrain, epochs=250, batch_size=16, validation_data=(xValidate, yValidate))\n"
   ]
  },
  {
   "cell_type": "code",
   "execution_count": null,
   "metadata": {},
   "outputs": [],
   "source": [
    "loss = model_2.evaluate(xTest, yTest)\n",
    "predictions = model_2.predict(xTest)\n",
    "plt.clf()\n",
    "plt.title('Comparison of predictions and actual values')\n",
    "plt.plot(xTest, yTest, 'b.', label='Actual')\n",
    "plt.plot(xTest, predictions, 'r.', label='Predicted')\n",
    "plt.legend()\n",
    "plt.show()"
   ]
  },
  {
   "cell_type": "code",
   "execution_count": null,
   "metadata": {},
   "outputs": [],
   "source": [
    "converter = tf.lite.TFLiteConverter.from_keras_model(model_2)\n",
    "tflite_model = converter.convert()\n",
    "open(\"model.tflite\", \"wb\").write(tflite_model)\n",
    "\n",
    "converter = tf.lite.TFLiteConverter.from_keras_model(model_2)\n",
    "converter.optimizations = [tf.lite.Optimize.DEFAULT]\n",
    "\n",
    "def representative_dataset_generator():\n",
    " for value in xTest:\n",
    "    yield [np.array(value, dtype=np.float32, ndmin=2)]\n",
    "\n",
    "converter.target_spec.supported_ops = [tf.lite.OpsSet.TFLITE_BUILTINS_INT8]\n",
    "converter.inference_input_type = tf.int8\n",
    "converter.inference_output_type = tf.int8\n",
    "converter.representative_dataset = representative_dataset_generator\n",
    "tflite_model = converter.convert()\n",
    "\n",
    "open(\"model_quantized.tflite\", \"wb\").write(tflite_model)"
   ]
  }
 ],
 "metadata": {
  "kernelspec": {
   "display_name": "Python 3",
   "language": "python",
   "name": "python3"
  },
  "language_info": {
   "codemirror_mode": {
    "name": "ipython",
    "version": 3
   },
   "file_extension": ".py",
   "mimetype": "text/x-python",
   "name": "python",
   "nbconvert_exporter": "python",
   "pygments_lexer": "ipython3",
   "version": "3.10.9 (tags/v3.10.9:1dd9be6, Dec  6 2022, 20:01:21) [MSC v.1934 64 bit (AMD64)]"
  },
  "orig_nbformat": 4,
  "vscode": {
   "interpreter": {
    "hash": "978e7dfe61986b401ce437d42bec31654da215487ca9edab3903d02c8ea53f68"
   }
  }
 },
 "nbformat": 4,
 "nbformat_minor": 2
}
